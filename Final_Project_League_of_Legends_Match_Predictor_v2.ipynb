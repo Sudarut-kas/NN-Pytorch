{
  "cells": [
    {
      "cell_type": "markdown",
      "metadata": {
        "id": "a74b8efc-0deb-4383-abf8-37eebc5fa7fc"
      },
      "source": [
        "<img src=\"https://cf-courses-data.s3.us.cloud-object-storage.appdomain.cloud/assets/logos/SN_web_lightmode.png\" height=300 width=300 />\n"
      ]
    },
    {
      "cell_type": "markdown",
      "metadata": {
        "id": "f719b59e-dc36-4efd-8da3-20447366d445"
      },
      "source": [
        "# Final Project: League of Legends Match Predictor\n"
      ]
    },
    {
      "cell_type": "markdown",
      "metadata": {
        "id": "b59d9087-f2a7-4691-8dd9-318b72e25499"
      },
      "source": [
        "### Introduction\n",
        "\n",
        "League of Legends, a popular multiplayer online battle arena (MOBA) game, generates extensive data from matches, providing an excellent opportunity to apply machine learning techniques to real-world scenarios. Perform the following steps to build a logistic regression model aimed at predicting the outcomes of League of Legends matches.\n",
        "\n",
        "Use the [league_of_legends_data_large.csv](https://cf-courses-data.s3.us.cloud-object-storage.appdomain.cloud/rk7VDaPjMp1h5VXS-cUyMg/league-of-legends-data-large.csv) file to perform the tasks.\n",
        "\n",
        "### Step 1: Data Loading and Preprocessing\n",
        "\n",
        "#### Task 1: Load the League of Legends dataset and preprocess it for training.\n",
        "\n",
        "Loading and preprocessing the dataset involves reading the data, splitting it into training and testing sets, and standardizing the features. You will utilize `pandas` for data manipulation, `train_test_split` from `sklearn` for data splitting, and `StandardScaler` for feature scaling.\n",
        "\n",
        "Note: Please ensure all the required libraries are installed and imported.\n",
        "\n",
        "1 .Load the dataset:\n",
        "Use `pd.read_csv()` to load the dataset into a pandas DataFrame.</br>\n",
        "2. Split data into features and target: Separate win (target) and the remaining columns (features).</br>\n",
        "   X = data.drop('win', axis=1)</br>\n",
        "   y = data['win'] </br>\n",
        "3 .Split the Data into Training and Testing Sets:\n",
        "Use `train_test_split()` from `sklearn.model_selection` to divide the data. Set `test_size`=0.2 to allocate 20% for testing and 80% for training, and use `random_state`=42 to ensure reproducibility of the split.</br>\n",
        "4. Standardize the features:\n",
        "Use `StandardScaler()` from sklearn.preprocessing to scale the features.</br>\n",
        "5. Convert to PyTorch tensors:\n",
        "Use `torch.tensor()` to convert the data to PyTorch tensors.\n",
        "\n",
        "#### Exercise 1:\n",
        "\n",
        "Write a code to load the dataset, split it into training and testing sets, standardize the features, and convert the data into PyTorch tensors for use in training a PyTorch model.\n"
      ]
    },
    {
      "cell_type": "markdown",
      "metadata": {
        "id": "72e68c37-7a0e-45c2-a5fd-5d8191ce117c"
      },
      "source": [
        "### Setup\n",
        "Installing required libraries:\n",
        "\n",
        "The following required libraries are not pre-installed in the Skills Network Labs environment. You will need to run the following cell to install them:\n"
      ]
    },
    {
      "cell_type": "code",
      "metadata": {
        "id": "de11b888-4436-4bfa-8a93-a0c3de1a4012"
      },
      "outputs": [],
      "source": [
        "# !pip install pandas\n",
        "# !pip install scikit-learn\n",
        "# !pip install torch\n",
        "# !pip install matplotlib\n"
      ],
      "execution_count": 5
    },
    {
      "cell_type": "code",
      "source": [
        "import warnings\n",
        "warnings.filterwarnings('ignore')"
      ],
      "metadata": {
        "id": "x_V8ogh7UayT"
      },
      "execution_count": 6,
      "outputs": []
    },
    {
      "cell_type": "code",
      "source": [
        "import pandas as pd\n",
        "from sklearn.model_selection import train_test_split\n",
        "from sklearn.preprocessing   import StandardScaler\n",
        "import torch"
      ],
      "metadata": {
        "id": "URrpBuCVHlkV"
      },
      "execution_count": 7,
      "outputs": []
    },
    {
      "cell_type": "code",
      "metadata": {
        "id": "eee00d93-8dba-4fee-ab0f-1e672959b7e5"
      },
      "outputs": [],
      "source": [
        "## Write your code here\n",
        "df = pd.read_csv('league_of_legends_data_large.csv')\n",
        "\n",
        "X = df.drop('win', axis=1)\n",
        "y = df['win']\n",
        "\n",
        "X_train, X_test, y_train, y_test = train_test_split(X, y, test_size=0.2, random_state=42)\n",
        "\n",
        "scaler  = StandardScaler()\n",
        "X_train = scaler.fit_transform(X_train)\n",
        "X_test  = scaler.transform(X_test)\n",
        "\n",
        "X_train_tensor = torch.tensor(X_train, dtype=torch.float32)\n",
        "X_test_tensor  = torch.tensor(X_test,  dtype=torch.float32)\n",
        "\n",
        "y_train_tensor = torch.tensor(y_train.values, dtype=torch.float32)\n",
        "y_test_tensor  = torch.tensor(y_test.values,  dtype=torch.float32)"
      ],
      "execution_count": 8
    },
    {
      "cell_type": "code",
      "source": [
        "#check shape\n",
        "X_train_tensor.shape, y_train_tensor.shape"
      ],
      "metadata": {
        "colab": {
          "base_uri": "https://localhost:8080/"
        },
        "id": "eGpDyQcHHs3g",
        "outputId": "0f972d29-1991-4e41-dff0-262e19956937"
      },
      "execution_count": 9,
      "outputs": [
        {
          "output_type": "execute_result",
          "data": {
            "text/plain": [
              "(torch.Size([800, 8]), torch.Size([800]))"
            ]
          },
          "metadata": {},
          "execution_count": 9
        }
      ]
    },
    {
      "cell_type": "markdown",
      "metadata": {
        "id": "fb489ba7-ed44-4fde-bf4a-fa65c7ccccb4"
      },
      "source": [
        "### Step 2: Logistic Regression Model\n",
        "\n",
        "#### Task 2: Implement a logistic regression model using PyTorch.\n",
        "\n",
        "Defining the logistic regression model involves specifying the input dimensions, the forward pass using the sigmoid activation function, and initializing the model, loss function, and optimizer.\n",
        "\n",
        "1 .Define the Logistic Regression Model:</br>\n",
        "  Create a class LogisticRegressionModel that inherits from torch.nn.Module.</br>\n",
        " - In the `__init__()` method, define a linear layer (nn.Linear) to implement the logistic regression model.</br>\n",
        "- The `forward()` method should apply the sigmoid activation function to the output of the linear layer.</br>\n",
        "\n",
        "2.Initialize the Model, Loss Function, and Optimizer:</br>\n",
        "- Set input_dim: Use `X_train.shape[1]` to get the number of features from the training data (X_train).</br>\n",
        "- Initialize the model: Create an instance of the LogisticRegressionModel class  (e.g., `model = LogisticRegressionModel()`)while passing input_dim as a parameter</br>\n",
        "- Loss Function: Use `BCELoss()` from torch.nn (Binary Cross-Entropy Loss).</br>\n",
        "- Optimizer: Initialize the optimizer using `optim.SGD()` with a learning rate of 0.01</br>\n",
        "\n",
        "#### Exercise 2:\n",
        "\n",
        "Define the logistic regression model using PyTorch, specifying the input dimensions and the forward pass. Initialize the model, loss function, and optimizer.\n"
      ]
    },
    {
      "cell_type": "code",
      "source": [
        "import torch.nn as nn\n",
        "import torch.optim as optim"
      ],
      "metadata": {
        "id": "ItrS0VrbLNj2"
      },
      "execution_count": 10,
      "outputs": []
    },
    {
      "cell_type": "code",
      "metadata": {
        "id": "a1c9448f-c088-424f-aad9-7aee38f7bc14"
      },
      "outputs": [],
      "source": [
        "## Write your code here\n",
        "\n",
        "class LR(nn.Module):\n",
        "  def __init__(self, input_size, output_size):\n",
        "    super(LR, self).__init__()\n",
        "    self.linear = nn.Linear(input_size, output_size)\n",
        "\n",
        "  def forward(self, x):\n",
        "    return torch.sigmoid(self.linear(x))"
      ],
      "execution_count": 11
    },
    {
      "cell_type": "code",
      "source": [
        "input  = X_train_tensor.shape[1]\n",
        "output = 1\n",
        "\n",
        "model = LR(input, output)\n",
        "# loss_fn   = nn.BCEWithLogitsLoss() #this function is already include the sigmoid function\n",
        "loss_fn = nn.BCELoss()\n",
        "optimizer = optim.SGD(model.parameters(), lr=0.01)"
      ],
      "metadata": {
        "id": "XDtTfwLCLl99"
      },
      "execution_count": 12,
      "outputs": []
    },
    {
      "cell_type": "markdown",
      "metadata": {
        "id": "23b68219-e2a2-406c-a63f-b1e1977e75d7"
      },
      "source": [
        "### Step 3: Model Training\n",
        "\n",
        "#### Task 3: Train the logistic regression model on the dataset.\n",
        "\n",
        "The training loop will run for a specified number of epochs. In each epoch, the model makes predictions, calculates the loss, performs backpropagation, and updates the model parameters.\n",
        "\n",
        "1. Set Number of Epochs:  \n",
        "   - Define the number of epochs for training to 1000.\n",
        "\n",
        "2. Training Loop:  \n",
        "   For each epoch:\n",
        "   - Set the model to training mode using `model.train()`.\n",
        "   - Zero the gradients using `optimizer.zero_grad()`.\n",
        "   - Pass the training data (`X_train`) through the model to get the predictions (`outputs`).\n",
        "   - Calculate the loss using the defined loss function (`criterion`).\n",
        "   - Perform backpropagation with `loss.backward()`.\n",
        "   - Update the model's weights using `optimizer.step()`.\n",
        "\n",
        "3. Print Loss Every 100 Epochs:  \n",
        "   - After every 100 epochs, print the current epoch number and the loss value.\n",
        "\n",
        "4. Model Evaluation:  \n",
        "   - Set the model to evaluation mode using `model.eval()`.\n",
        "   - Use `torch.no_grad()` to ensure no gradients are calculated during evaluation.\n",
        "   - Get predictions on both the training set (`X_train`) and the test set (`X_test`).\n",
        "\n",
        "5. Calculate Accuracy:  \n",
        "   - For both the training and test datasets, compute the accuracy by comparing the predicted values with the true values (`y_train`, `y_test`).\n",
        "   - Use a threshold of 0.5 for classification\n",
        "   \n",
        "6. Print Accuracy:  \n",
        "   - Print the training and test accuracies after the evaluation is complete.\n",
        "\n",
        "#### Exercise 3:\n",
        "\n",
        "Write the code to train the logistic regression model on the dataset. Implement the training loop, making predictions, calculating the loss, performing backpropagation, and updating model parameters. Evaluate the model's accuracy on training and testing sets.\n"
      ]
    },
    {
      "cell_type": "code",
      "source": [
        "def accuracy_fn(y_hat, y_true):\n",
        "  correct = torch.eq(y_hat, y_true).sum().item()\n",
        "  accuracy = (correct / len(y_hat)) * 100\n",
        "  return accuracy"
      ],
      "metadata": {
        "id": "QvDW57fLQEfa"
      },
      "execution_count": 13,
      "outputs": []
    },
    {
      "cell_type": "code",
      "metadata": {
        "colab": {
          "base_uri": "https://localhost:8080/"
        },
        "id": "d27de934-738d-4256-b7bc-9c9139a47af0",
        "outputId": "9c200133-6ea5-46d1-89d1-c3fe8aee3a13"
      },
      "outputs": [
        {
          "output_type": "stream",
          "name": "stdout",
          "text": [
            "epoch: 0 | Train Loss: 0.7381629347801208 Accuracy: 50.125| Test Loss: 0.7408439517021179 | Accuracy: 54.50000000000001\n",
            "epoch: 100 | Train Loss: 0.7193576097488403 Accuracy: 51.125| Test Loss: 0.7231844067573547 | Accuracy: 54.0\n",
            "epoch: 200 | Train Loss: 0.7069895267486572 Accuracy: 52.37500000000001| Test Loss: 0.7120918035507202 | Accuracy: 53.5\n",
            "epoch: 300 | Train Loss: 0.6990131139755249 Accuracy: 53.125| Test Loss: 0.7054067850112915 | Accuracy: 52.5\n",
            "epoch: 400 | Train Loss: 0.6939326524734497 Accuracy: 54.625| Test Loss: 0.7015506029129028 | Accuracy: 52.0\n",
            "epoch: 500 | Train Loss: 0.6907199621200562 Accuracy: 55.125| Test Loss: 0.6994470953941345 | Accuracy: 52.0\n",
            "epoch: 600 | Train Loss: 0.6886957287788391 Accuracy: 55.25| Test Loss: 0.6983961462974548 | Accuracy: 50.0\n",
            "epoch: 700 | Train Loss: 0.6874220967292786 Accuracy: 54.625| Test Loss: 0.6979578137397766 | Accuracy: 51.0\n",
            "epoch: 800 | Train Loss: 0.6866208910942078 Accuracy: 55.00000000000001| Test Loss: 0.697861909866333 | Accuracy: 50.0\n",
            "epoch: 900 | Train Loss: 0.6861162781715393 Accuracy: 55.00000000000001| Test Loss: 0.697946310043335 | Accuracy: 52.5\n"
          ]
        }
      ],
      "source": [
        "# Write your code here\n",
        "\n",
        "epoch_count = []\n",
        "train_loss_val = []\n",
        "test_loss_val  = []\n",
        "train_acc_val  = []\n",
        "test_acc_val   = []\n",
        "\n",
        "for epoch in range(1000):\n",
        "  model.train()\n",
        "  y_pred_train = model(X_train_tensor).squeeze() #to remove 1 extra dimension\n",
        "  train_loss   = loss_fn(y_pred_train, y_train_tensor)\n",
        "  optimizer.zero_grad()\n",
        "  train_loss.backward()\n",
        "  optimizer.step()\n",
        "\n",
        "  model.eval()\n",
        "  with torch.no_grad():\n",
        "    y_pred_test = model(X_test_tensor).squeeze() # to remove 1 extra dimension\n",
        "    test_loss   = loss_fn(y_pred_test, y_test_tensor)\n",
        "\n",
        "    #Accuracy (Needs to round after Sigmoid function as 0.5 threshold)\n",
        "    train_acc = accuracy_fn(torch.round(y_pred_train), y_train_tensor)\n",
        "    test_acc  = accuracy_fn(torch.round(y_pred_test), y_test_tensor)\n",
        "\n",
        "    if epoch % 100 == 0:\n",
        "      epoch_count.append(epoch)\n",
        "      train_loss_val.append(train_loss)\n",
        "      test_loss_val.append(test_loss)\n",
        "      train_acc_val.append(train_acc)\n",
        "      test_acc_val.append(test_acc)\n",
        "      print(f'epoch: {epoch} | Train Loss: {train_loss} Accuracy: {train_acc}| Test Loss: {test_loss} | Accuracy: {test_acc}')"
      ],
      "execution_count": 14
    },
    {
      "cell_type": "markdown",
      "metadata": {
        "id": "bed998e3-ee78-4156-8505-5ee583b30039"
      },
      "source": [
        "### Step 4: Model Optimization and Evaluation\n",
        "\n",
        "#### Task 4: Implement optimization techniques and evaluate the model's performance.\n",
        "\n",
        "Optimization techniques such as L2 regularization (Ridge Regression) help in preventing overfitting. The model is retrained with these optimizations, and its performance is evaluated on both training and testing sets.\n",
        "\n",
        "**Weight Decay** :In the context of machine learning and specifically in optimization algorithms, weight_decay is a parameter used to apply L2 regularization to the model's parameters (weights). It helps prevent the model from overfitting by penalizing large weight values, thereby encouraging the model to find simpler solutions.To use L2 regularization, you need to modify the optimizer by setting the weight_decay parameter. The weight_decay parameter in the optimizer adds the L2 regularization term during training.\n",
        "For example, when you initialize the optimizer with optim.SGD(model.parameters(), lr=0.01, weight_decay=0.01), the weight_decay=0.01 term applies L2 regularization with a strength of 0.01.\n",
        "\n",
        "1. Set Up the Optimizer with L2 Regularization:\n",
        "   - Modify the optimizer to include `weight_decay` for L2 regularization.\n",
        "   - Example:\n",
        "     ```python\n",
        "     optimizer = optim.SGD(model.parameters(), lr=0.01, weight_decay=0.01)\n",
        "     ```\n",
        "2. Train the Model with L2 Regularization:\n",
        "    - Follow the same steps as before but use the updated optimizer with regularization during training.\n",
        "    - Use epochs=1000\n",
        "   \n",
        "3. Evaluate the Optimized Model:\n",
        "   - After training, evaluate the model on both the training and test datasets.\n",
        "   - Compute the accuracy for both sets by comparing the model's predictions to the true labels (`y_train` and `y_test`).\n",
        "\n",
        "4. Calculate and Print the Accuracy:\n",
        "   - Use a threshold of 0.5 to determine whether the model's predictions are class 0 or class 1.\n",
        "   - Print the training accuracy and test accuracy  after evaluation.\n",
        "\n",
        "\n",
        "#### Exercise 4:\n",
        "\n",
        "Implement optimization techniques like L2 regularization and retrain the model. Evaluate the performance of the optimized model on both training and testing sets.\n"
      ]
    },
    {
      "cell_type": "code",
      "metadata": {
        "colab": {
          "base_uri": "https://localhost:8080/"
        },
        "id": "6619c7fd-4ec5-4d9c-9b08-690d403c0589",
        "outputId": "795edc93-93a3-4dc6-eae9-14a4394f3373"
      },
      "outputs": [
        {
          "output_type": "stream",
          "name": "stdout",
          "text": [
            "epoch: 0 | Train Loss: 0.7236650586128235 Accuracy: 51.87500000000001| Test Loss: 0.7122299075126648 | Accuracy: 55.00000000000001\n",
            "epoch: 100 | Train Loss: 0.7091328501701355 Accuracy: 52.0| Test Loss: 0.7029626965522766 | Accuracy: 55.00000000000001\n",
            "epoch: 200 | Train Loss: 0.6999710202217102 Accuracy: 51.24999999999999| Test Loss: 0.6980239152908325 | Accuracy: 53.5\n",
            "epoch: 300 | Train Loss: 0.6942830681800842 Accuracy: 54.125| Test Loss: 0.6957042813301086 | Accuracy: 51.5\n",
            "epoch: 400 | Train Loss: 0.6907826066017151 Accuracy: 54.25| Test Loss: 0.6948783993721008 | Accuracy: 53.0\n",
            "epoch: 500 | Train Loss: 0.6886382102966309 Accuracy: 55.375| Test Loss: 0.6948496103286743 | Accuracy: 51.5\n",
            "epoch: 600 | Train Loss: 0.6873269081115723 Accuracy: 56.125| Test Loss: 0.695206880569458 | Accuracy: 51.0\n",
            "epoch: 700 | Train Loss: 0.686525285243988 Accuracy: 55.625| Test Loss: 0.6957182884216309 | Accuracy: 50.0\n",
            "epoch: 800 | Train Loss: 0.68603515625 Accuracy: 56.00000000000001| Test Loss: 0.6962593197822571 | Accuracy: 51.5\n",
            "epoch: 900 | Train Loss: 0.6857349872589111 Accuracy: 55.375| Test Loss: 0.6967682838439941 | Accuracy: 51.5\n"
          ]
        }
      ],
      "source": [
        "## Write your code here\n",
        "epoch_count = []\n",
        "train_loss_val = []\n",
        "test_loss_val  = []\n",
        "train_acc_val  = []\n",
        "test_acc_val   = []\n",
        "\n",
        "model = LR(input, output)\n",
        "loss_fn = nn.BCELoss()\n",
        "optimizer = optim.SGD(model.parameters(), lr=0.01, weight_decay=1e-2) #apply L2 to prevent overfitting\n",
        "\n",
        "for epoch in range(1000):\n",
        "  model.train()\n",
        "  y_pred_train = model(X_train_tensor).squeeze() #to remove 1 extra dimension\n",
        "  train_loss   = loss_fn(y_pred_train, y_train_tensor)\n",
        "  optimizer.zero_grad()\n",
        "  train_loss.backward()\n",
        "  optimizer.step()\n",
        "\n",
        "  model.eval()\n",
        "  with torch.no_grad():\n",
        "    y_pred_test = model(X_test_tensor).squeeze() # to remove 1 extra dimension\n",
        "    test_loss   = loss_fn(y_pred_test, y_test_tensor)\n",
        "\n",
        "    #Accuracy (Needs to round after Sigmoid function as 0.5 threshold)\n",
        "    train_acc = accuracy_fn(torch.round(y_pred_train), y_train_tensor)\n",
        "    test_acc  = accuracy_fn(torch.round(y_pred_test), y_test_tensor)\n",
        "\n",
        "    if epoch % 100 == 0:\n",
        "      epoch_count.append(epoch)\n",
        "      train_loss_val.append(train_loss)\n",
        "      test_loss_val.append(test_loss)\n",
        "      train_acc_val.append(train_acc)\n",
        "      test_acc_val.append(test_acc)\n",
        "      print(f'epoch: {epoch} | Train Loss: {train_loss} Accuracy: {train_acc}| Test Loss: {test_loss} | Accuracy: {test_acc}')"
      ],
      "execution_count": 15
    },
    {
      "cell_type": "markdown",
      "metadata": {
        "id": "24751f9a-b8ea-4034-b887-c44ee649bec2"
      },
      "source": [
        "### Step 5: Visualization and Interpretation\n",
        "\n",
        "Visualization tools like confusion matrices and ROC curves provide insights into the model's performance. The confusion matrix helps in understanding the classification accuracy, while the ROC curve illustrates the trade-off between sensitivity and specificity.\n",
        "\n",
        "Confusion Matrix : A Confusion Matrix is a fundamental tool used in classification problems to evaluate the performance of a model. It provides a matrix showing the number of correct and incorrect predictions made by the model, categorized by the actual and predicted classes.\n",
        "Where\n",
        "-  True Positive (TP): Correctly predicted positive class (class 1).\n",
        "- True Negative (TN): Correctly predicted negative class (class 0).\n",
        "- False Positive (FP): Incorrectly predicted as positive (class 1), but the actual class is negative (class 0). This is also called a Type I error.\n",
        "- False Negative (FN): Incorrectly predicted as negative (class 0), but the actual class is positive (class 1). This is also called a Type II error.\n",
        "\n",
        "ROC Curve (Receiver Operating Characteristic Curve):\n",
        "The ROC Curve is a graphical representation used to evaluate the performance of a binary classification model across all classification thresholds. It plots two metrics:\n",
        "- True Positive Rate (TPR) or Recall (Sensitivity)-It is the proportion of actual positive instances (class 1) that were correctly classified as positive by the model.\n",
        "- False Positive Rate (FPR)-It is the proportion of actual negative instances (class 0) that were incorrectly classified as positive by the model.\n",
        "  \n",
        "AUC:\n",
        "AUC stands for Area Under the Curve and is a performance metric used to evaluate the quality of a binary classification model. Specifically, it refers to the area under the ROC curve (Receiver Operating Characteristic curve), which plots the True Positive Rate (TPR) versus the False Positive Rate (FPR) for different threshold values.\n",
        "\n",
        "Classification Report:\n",
        "A Classification Report is a summary of various classification metrics, which are useful for evaluating the performance of a classifier on the given dataset.\n",
        "\n",
        "#### Exercise 5:\n",
        "\n",
        "Write code to visualize the model's performance using confusion matrices and ROC curves. Generate classification reports to evaluate precision, recall, and F1-score. Retrain the model with L2 regularization and evaluate the performance.\n"
      ]
    },
    {
      "cell_type": "code",
      "source": [
        "import matplotlib.pyplot as plt\n",
        "from sklearn.metrics import confusion_matrix, classification_report, roc_curve, auc\n",
        "import seaborn as sns"
      ],
      "metadata": {
        "id": "LL4IMcgnRwGa"
      },
      "execution_count": 16,
      "outputs": []
    },
    {
      "cell_type": "code",
      "metadata": {
        "id": "3b4539c5-65f0-4f6a-b452-037cc765fd75"
      },
      "outputs": [],
      "source": [
        "## Write your code here"
      ],
      "execution_count": 17
    },
    {
      "cell_type": "code",
      "source": [
        "cm = confusion_matrix(torch.round(y_pred_test).numpy(), y_test_tensor.numpy())\n",
        "\n",
        "plt.figure(figsize=(6, 4))\n",
        "sns.heatmap(cm,\n",
        "            annot=True,\n",
        "            fmt='d',\n",
        "            cmap='Blues',\n",
        "            xticklabels=[\"Lose\", \"Win\"],\n",
        "            yticklabels=[\"Lose\", \"Win\"])\n",
        "\n",
        "plt.xlabel(\"Predicted\")\n",
        "plt.ylabel(\"True\")\n",
        "plt.title(\"Confusion Matrix\")\n",
        "plt.show()"
      ],
      "metadata": {
        "colab": {
          "base_uri": "https://localhost:8080/",
          "height": 410
        },
        "id": "zEDuQ_5YR0ZH",
        "outputId": "08257eaf-dfa1-4979-9964-6b1ef1164fc3"
      },
      "execution_count": 18,
      "outputs": [
        {
          "output_type": "display_data",
          "data": {
            "text/plain": [
              "<Figure size 600x400 with 2 Axes>"
            ],
            "image/png": "[encoded data removed]"
          },
          "metadata": {}
        }
      ]
    },
    {
      "cell_type": "code",
      "source": [
        "report = classification_report(torch.round(y_pred_test).numpy(), y_test_tensor.numpy(), target_names=[\"Lose\", \"Win\"])\n",
        "print(\"Classification Report:\\n\")\n",
        "print(report)"
      ],
      "metadata": {
        "colab": {
          "base_uri": "https://localhost:8080/"
        },
        "id": "lHfT76-9SmP9",
        "outputId": "3859c148-418f-417d-c6ec-05e6e2361d40"
      },
      "execution_count": 19,
      "outputs": [
        {
          "output_type": "stream",
          "name": "stdout",
          "text": [
            "Classification Report:\n",
            "\n",
            "              precision    recall  f1-score   support\n",
            "\n",
            "        Lose       0.37      0.49      0.42        72\n",
            "         Win       0.65      0.53      0.58       128\n",
            "\n",
            "    accuracy                           0.52       200\n",
            "   macro avg       0.51      0.51      0.50       200\n",
            "weighted avg       0.55      0.52      0.52       200\n",
            "\n"
          ]
        }
      ]
    },
    {
      "cell_type": "code",
      "source": [
        "fpr, tpr, thresholds = roc_curve(y_test_tensor, y_pred_test)\n",
        "roc_auc = auc(fpr, tpr)\n",
        "\n",
        "plt.figure()z\n",
        "plt.plot(fpr, tpr, color='darkorange', lw=2, label=f'ROC curve (area = {roc_auc:.2f})')\n",
        "plt.plot([0, 1], [0, 1], color='navy', lw=2, linestyle='--')\n",
        "plt.xlim([0.0, 1.0])\n",
        "plt.ylim([0.0, 1.05])\n",
        "plt.xlabel('False Positive Rate')\n",
        "plt.ylabel('True Positive Rate')\n",
        "plt.title('Receiver Operating Characteristic (ROC)')\n",
        "plt.legend(loc=\"lower right\")\n",
        "plt.show()"
      ],
      "metadata": {
        "colab": {
          "base_uri": "https://localhost:8080/",
          "height": 472
        },
        "id": "E6Mb1CCTS1oS",
        "outputId": "7fbd35e9-c337-41d9-fc34-13806dd07483"
      },
      "execution_count": 20,
      "outputs": [
        {
          "output_type": "display_data",
          "data": {
            "text/plain": [
              "<Figure size 640x480 with 1 Axes>"
            ],
            "image/png": "[encoded data removed]"
          },
          "metadata": {}
        }
      ]
    },
    {
      "cell_type": "markdown",
      "metadata": {
        "id": "672e4174-126d-45b5-a70d-289ee18cf0a2"
      },
      "source": [
        "Double-click <b>here</b> for the Hint.\n",
        "<!--\n",
        "\n",
        "#Change the name of variables as per your code\n",
        "import matplotlib.pyplot as plt\n",
        "from sklearn.metrics import confusion_matrix, classification_report, roc_curve, auc\n",
        "import itertools\n",
        "\n",
        "# Visualize the confusion matrix\n",
        "#Change the variable names as used in your code\n",
        "y_pred_test_labels = (y_pred_test > 0.5).float()\n",
        "cm = confusion_matrix(y_test, y_pred_test_labels)\n",
        "\n",
        "plt.figure(figsize=(6, 6))\n",
        "plt.imshow(cm, interpolation='nearest', cmap=plt.cm.Blues)\n",
        "plt.title('Confusion Matrix')\n",
        "plt.colorbar()\n",
        "tick_marks = range(2)\n",
        "plt.xticks(tick_marks, ['Loss', 'Win'], rotation=45)\n",
        "plt.yticks(tick_marks, ['Loss', 'Win'])\n",
        "\n",
        "thresh = cm.max() / 2\n",
        "for i, j in itertools.product(range(cm.shape[0]), range(cm.shape[1])):\n",
        "    plt.text(j, i, cm[i, j], horizontalalignment=\"center\", color=\"white\" if cm[i, j] > thresh else \"black\")\n",
        "\n",
        "plt.tight_layout()\n",
        "plt.ylabel('True label')\n",
        "plt.xlabel('Predicted label')\n",
        "plt.show()\n",
        "\n",
        "# Print classification report\n",
        "print(\"Classification Report:\\n\", classification_report(y_test, y_pred_test_labels, target_names=['Loss', 'Win']))\n",
        "\n",
        "# Plot ROC curve\n",
        "fpr, tpr, thresholds = roc_curve(y_test, y_pred_test)\n",
        "roc_auc = auc(fpr, tpr)\n",
        "\n",
        "plt.figure()\n",
        "plt.plot(fpr, tpr, color='darkorange', lw=2, label=f'ROC curve (area = {roc_auc:.2f})')\n",
        "plt.plot([0, 1], [0, 1], color='navy', lw=2, linestyle='--')\n",
        "plt.xlim([0.0, 1.0])\n",
        "plt.ylim([0.0, 1.05])\n",
        "plt.xlabel('False Positive Rate')\n",
        "plt.ylabel('True Positive Rate')\n",
        "plt.title('Receiver Operating Characteristic (ROC)')\n",
        "plt.legend(loc=\"lower right\")\n",
        "plt.show()\n",
        "-->\n"
      ]
    },
    {
      "cell_type": "markdown",
      "metadata": {
        "id": "4b983787-2b9b-4d09-bfd8-95b8f783c83a"
      },
      "source": [
        "### Step 6: Model Saving and Loading\n",
        "\n",
        "#### Task 6: Save and load the trained model.\n",
        "\n",
        "This task demonstrates the techniques to persist a trained model using `torch.save` and reload it using `torch.load`. Evaluating the loaded model ensures that it retains its performance, making it practical for deployment in real-world applications.\n",
        "\n",
        "1. Saving the Model:\n",
        "- Save the model's learned weights and biases using torch.save().( e.g. , torch.save(model.state_dict(), 'your_model_name.pth'))\n",
        "- Saving only the state dictionary (model parameters) is preferred because it’s more flexible and efficient than saving the entire model object.\n",
        "\n",
        "2. Loading the Model:\n",
        "- Create a new model instance (e.g., `model = LogisticRegressionModel()`) and load the saved parameters. ( e.g. , `model.load_state_dict(torch.load('your_model_name.pth'))`)`.\n",
        "\n",
        "3. Evaluating the Loaded Model:\n",
        "   - After loading, set the model to evaluation mode by calling `model.eval()\n",
        "   - After loading the model, evaluate it again on the test dataset to make sure it performs similarly to when it was first trained..Now evaluate it on the test data.\n",
        "   - Use `torch.no_grad()` to ensure that no gradients are computed.\n",
        "\n",
        "#### Exercise 6:\n",
        "\n",
        "Write code to save the trained model and reload it. Ensure the loaded model performs consistently by evaluating it on the test dataset.\n"
      ]
    },
    {
      "cell_type": "code",
      "metadata": {
        "colab": {
          "base_uri": "https://localhost:8080/"
        },
        "id": "a1cdb5c1-9b4f-4f1b-9d23-ad8ed4cdebd2",
        "outputId": "355381a0-4d3f-4801-a767-eff480f335a7"
      },
      "outputs": [
        {
          "output_type": "stream",
          "name": "stdout",
          "text": [
            "Accuracy: 51.5\n"
          ]
        }
      ],
      "source": [
        "## Write your code here\n",
        "# Save the model\n",
        "torch.save(model.state_dict(), \"logistic_model.pth\")\n",
        "\n",
        "# Load the model\n",
        "loaded_model = LR(input, output)\n",
        "loaded_model.load_state_dict(torch.load(\"logistic_model.pth\"))\n",
        "\n",
        "# Ensure the loaded model is in evaluation mode\n",
        "loaded_model.eval()\n",
        "\n",
        "# Evaluate the loaded model\n",
        "with torch.no_grad():\n",
        "    loaded_test   = loaded_model(X_test_tensor).squeeze()\n",
        "    test_loss_new = loss_fn(loaded_test, y_test_tensor)\n",
        "\n",
        "    loaded_test_acc = accuracy_fn(torch.round(loaded_test), y_test_tensor)\n",
        "    print(f'Accuracy: {loaded_test_acc}')"
      ],
      "execution_count": 21
    },
    {
      "cell_type": "markdown",
      "metadata": {
        "id": "edd4d603-e38f-43eb-bd67-d30ce00d757b"
      },
      "source": [
        "### Step 7: Hyperparameter Tuning\n",
        "\n",
        "#### Task 7: Perform hyperparameter tuning to find the best learning rate.\n",
        "\n",
        "By testing different learning rates, you will identify the optimal rate that provides the best test accuracy. This fine-tuning is crucial for enhancing model performance .\n",
        "1. Define Learning Rates:\n",
        "   - Choose these learning rates to test ,[0.01, 0.05, 0.1]\n",
        "\n",
        "2. Reinitialize the Model for Each Learning Rate:\n",
        "  - For each learning rate, you’ll need to reinitialize the model and optimizer e.g.(`torch.optim.SGD(model.parameters(), lr=lr)`).\n",
        "   - Each new learning rate requires reinitializing the model since the optimizer and its parameters are linked to the learning rate.\n",
        "\n",
        "3. Train the Model for Each Learning Rate:\n",
        "  - Train the model for a fixed number of epochs (e.g., 50 or 100 epochs) for each learning rate, and compute the accuracy on the test set.\n",
        "  - Track the test accuracy for each learning rate and identify which one yields the best performance.\n",
        "\n",
        "4. Evaluate and Compare:\n",
        "  - After training with each learning rate, compare the test accuracy for each configuration.\n",
        "   - Report the learning rate that gives the highest test accuracy\n",
        "\n",
        "#### Exercise 7:\n",
        "\n",
        "Perform hyperparameter tuning to find the best learning rate. Retrain the model for each learning rate and evaluate its performance to identify the optimal rate.\n"
      ]
    },
    {
      "cell_type": "code",
      "metadata": {
        "id": "cb97fb79-7161-4fba-907a-894843d5a969"
      },
      "outputs": [],
      "source": [
        "## Write your code here\n",
        "learning_rates = [0.01, 0.5, 0.1]\n",
        "dict_accuracy = {}\n",
        "\n",
        "for lr in learning_rates:\n",
        "  model   = LR(input, output)\n",
        "  loss_fn = nn.BCELoss()\n",
        "  optimizer = optim.SGD(model.parameters(), lr=0.01, weight_decay=1e-2) #apply L2 to prevent overfitting\n",
        "\n",
        "  for epoch in range(1000):\n",
        "    model.train()\n",
        "    y_pred_train = model(X_train_tensor).squeeze() #to remove 1 extra dimension\n",
        "    train_loss   = loss_fn(y_pred_train, y_train_tensor)\n",
        "    optimizer.zero_grad()\n",
        "    train_loss.backward()\n",
        "    optimizer.step()\n",
        "\n",
        "  model.eval()\n",
        "  with torch.no_grad():\n",
        "    y_pred_test = model(X_test_tensor).squeeze() # to remove 1 extra dimension\n",
        "    test_acc = accuracy_fn(torch.round(y_pred_test), y_test_tensor)\n",
        "\n",
        "  dict_accuracy[lr] = test_acc"
      ],
      "execution_count": 22
    },
    {
      "cell_type": "code",
      "source": [
        "dict_accuracy"
      ],
      "metadata": {
        "colab": {
          "base_uri": "https://localhost:8080/"
        },
        "id": "fssfphxqYp_Y",
        "outputId": "87427445-4ec6-4ce0-a9fb-27fd6e84bb56"
      },
      "execution_count": 23,
      "outputs": [
        {
          "output_type": "execute_result",
          "data": {
            "text/plain": [
              "{0.01: 51.5, 0.5: 51.0, 0.1: 52.0}"
            ]
          },
          "metadata": {},
          "execution_count": 23
        }
      ]
    },
    {
      "cell_type": "markdown",
      "metadata": {
        "id": "f7ae60c9-6d8e-4917-aa63-5f063f4f1cdc"
      },
      "source": [
        "### Step 8: Feature Importance\n",
        "\n",
        "#### Task 8: Evaluate feature importance to understand the impact of each feature on the prediction.\n",
        "\n",
        "The code to evaluate feature importance to understand the impact of each feature on the prediction.\n",
        "\n",
        " 1.Extracting Model Weights:\n",
        "  - The weights of the logistic regression model represent the importance of each feature in making predictions. These weights are stored in the model's linear layer (`model.linear.weight`).\n",
        " - You can extract the weights using `model.linear.weight.data.numpy()` and flatten the resulting tensor to get a 1D array of feature importances.\n",
        "\n",
        "2.Creating a DataFrame:\n",
        " - Create a pandas DataFrame with two columns: one for the feature names and the other for their corresponding importance values (i.e., the learned weights).\n",
        " - Ensure the features are aligned with their names in your dataset (e.g., `X_train.columns).\n",
        "\n",
        "3. Sorting and Plotting Feature Importance:\n",
        "  - Sort the features based on the absolute value of their importance (weights) to identify the most impactful features.\n",
        "  - Use a bar plot (via `matplotlib`) to visualize the sorted feature importances, with the feature names on the y-axis and importance values on the x-axis.\n",
        "\n",
        "4. Interpreting the Results:\n",
        "  - Larger absolute weights indicate more influential features. Positive weights suggest a positive correlation with the outcome (likely to predict the positive class), while negative weights suggest the opposite.\n",
        "\n",
        "#### Exercise 8:\n",
        "\n",
        "Evaluate feature importance by extracting the weights of the linear layer and creating a DataFrame to display the importance of each feature. Visualize the feature importance using a bar plot.\n"
      ]
    },
    {
      "cell_type": "code",
      "metadata": {
        "colab": {
          "base_uri": "https://localhost:8080/",
          "height": 300
        },
        "id": "db47abab-fb7b-42af-8151-04ae529b532a",
        "outputId": "3375d324-9264-42fd-b754-4dd1c12427e2"
      },
      "outputs": [
        {
          "output_type": "execute_result",
          "data": {
            "text/plain": [
              "        Feature  Importance\n",
              "3   gold_earned    0.176277\n",
              "0         kills    0.139883\n",
              "5  wards_placed    0.099046\n",
              "2       assists   -0.001496\n",
              "7  damage_dealt   -0.013351\n",
              "4            cs   -0.016905\n",
              "1        deaths   -0.030333\n",
              "6  wards_killed   -0.050207"
            ],
            "text/html": [
              "\n",
              "  <div id=\"df-587c801b-ab56-4411-9594-e5e51ebb600a\" class=\"colab-df-container\">\n",
              "    <div>\n",
              "<style scoped>\n",
              "    .dataframe tbody tr th:only-of-type {\n",
              "        vertical-align: middle;\n",
              "    }\n",
              "\n",
              "    .dataframe tbody tr th {\n",
              "        vertical-align: top;\n",
              "    }\n",
              "\n",
              "    .dataframe thead th {\n",
              "        text-align: right;\n",
              "    }\n",
              "</style>\n",
              "<table border=\"1\" class=\"dataframe\">\n",
              "  <thead>\n",
              "    <tr style=\"text-align: right;\">\n",
              "      <th></th>\n",
              "      <th>Feature</th>\n",
              "      <th>Importance</th>\n",
              "    </tr>\n",
              "  </thead>\n",
              "  <tbody>\n",
              "    <tr>\n",
              "      <th>3</th>\n",
              "      <td>gold_earned</td>\n",
              "      <td>0.176277</td>\n",
              "    </tr>\n",
              "    <tr>\n",
              "      <th>0</th>\n",
              "      <td>kills</td>\n",
              "      <td>0.139883</td>\n",
              "    </tr>\n",
              "    <tr>\n",
              "      <th>5</th>\n",
              "      <td>wards_placed</td>\n",
              "      <td>0.099046</td>\n",
              "    </tr>\n",
              "    <tr>\n",
              "      <th>2</th>\n",
              "      <td>assists</td>\n",
              "      <td>-0.001496</td>\n",
              "    </tr>\n",
              "    <tr>\n",
              "      <th>7</th>\n",
              "      <td>damage_dealt</td>\n",
              "      <td>-0.013351</td>\n",
              "    </tr>\n",
              "    <tr>\n",
              "      <th>4</th>\n",
              "      <td>cs</td>\n",
              "      <td>-0.016905</td>\n",
              "    </tr>\n",
              "    <tr>\n",
              "      <th>1</th>\n",
              "      <td>deaths</td>\n",
              "      <td>-0.030333</td>\n",
              "    </tr>\n",
              "    <tr>\n",
              "      <th>6</th>\n",
              "      <td>wards_killed</td>\n",
              "      <td>-0.050207</td>\n",
              "    </tr>\n",
              "  </tbody>\n",
              "</table>\n",
              "</div>\n",
              "    <div class=\"colab-df-buttons\">\n",
              "\n",
              "  <div class=\"colab-df-container\">\n",
              "    <button class=\"colab-df-convert\" onclick=\"convertToInteractive('df-587c801b-ab56-4411-9594-e5e51ebb600a')\"\n",
              "            title=\"Convert this dataframe to an interactive table.\"\n",
              "            style=\"display:none;\">\n",
              "\n",
              "  <svg xmlns=\"http://www.w3.org/2000/svg\" height=\"24px\" viewBox=\"0 -960 960 960\">\n",
              "    <path d=\"M120-120v-720h720v720H120Zm60-500h600v-160H180v160Zm220 220h160v-160H400v160Zm0 220h160v-160H400v160ZM180-400h160v-160H180v160Zm440 0h160v-160H620v160ZM180-180h160v-160H180v160Zm440 0h160v-160H620v160Z\"/>\n",
              "  </svg>\n",
              "    </button>\n",
              "\n",
              "  <style>\n",
              "    .colab-df-container {\n",
              "      display:flex;\n",
              "      gap: 12px;\n",
              "    }\n",
              "\n",
              "    .colab-df-convert {\n",
              "      background-color: #E8F0FE;\n",
              "      border: none;\n",
              "      border-radius: 50%;\n",
              "      cursor: pointer;\n",
              "      display: none;\n",
              "      fill: #1967D2;\n",
              "      height: 32px;\n",
              "      padding: 0 0 0 0;\n",
              "      width: 32px;\n",
              "    }\n",
              "\n",
              "    .colab-df-convert:hover {\n",
              "      background-color: #E2EBFA;\n",
              "      box-shadow: 0px 1px 2px rgba(60, 64, 67, 0.3), 0px 1px 3px 1px rgba(60, 64, 67, 0.15);\n",
              "      fill: #174EA6;\n",
              "    }\n",
              "\n",
              "    .colab-df-buttons div {\n",
              "      margin-bottom: 4px;\n",
              "    }\n",
              "\n",
              "    [theme=dark] .colab-df-convert {\n",
              "      background-color: #3B4455;\n",
              "      fill: #D2E3FC;\n",
              "    }\n",
              "\n",
              "    [theme=dark] .colab-df-convert:hover {\n",
              "      background-color: #434B5C;\n",
              "      box-shadow: 0px 1px 3px 1px rgba(0, 0, 0, 0.15);\n",
              "      filter: drop-shadow(0px 1px 2px rgba(0, 0, 0, 0.3));\n",
              "      fill: #FFFFFF;\n",
              "    }\n",
              "  </style>\n",
              "\n",
              "    <script>\n",
              "      const buttonEl =\n",
              "        document.querySelector('#df-587c801b-ab56-4411-9594-e5e51ebb600a button.colab-df-convert');\n",
              "      buttonEl.style.display =\n",
              "        google.colab.kernel.accessAllowed ? 'block' : 'none';\n",
              "\n",
              "      async function convertToInteractive(key) {\n",
              "        const element = document.querySelector('#df-587c801b-ab56-4411-9594-e5e51ebb600a');\n",
              "        const dataTable =\n",
              "          await google.colab.kernel.invokeFunction('convertToInteractive',\n",
              "                                                    [key], {});\n",
              "        if (!dataTable) return;\n",
              "\n",
              "        const docLinkHtml = 'Like what you see? Visit the ' +\n",
              "          '<a target=\"_blank\" href=https://colab.research.google.com/notebooks/data_table.ipynb>data table notebook</a>'\n",
              "          + ' to learn more about interactive tables.';\n",
              "        element.innerHTML = '';\n",
              "        dataTable['output_type'] = 'display_data';\n",
              "        await google.colab.output.renderOutput(dataTable, element);\n",
              "        const docLink = document.createElement('div');\n",
              "        docLink.innerHTML = docLinkHtml;\n",
              "        element.appendChild(docLink);\n",
              "      }\n",
              "    </script>\n",
              "  </div>\n",
              "\n",
              "\n",
              "<div id=\"df-22167fed-2c08-4d10-85e0-d529f2d3f600\">\n",
              "  <button class=\"colab-df-quickchart\" onclick=\"quickchart('df-22167fed-2c08-4d10-85e0-d529f2d3f600')\"\n",
              "            title=\"Suggest charts\"\n",
              "            style=\"display:none;\">\n",
              "\n",
              "<svg xmlns=\"http://www.w3.org/2000/svg\" height=\"24px\"viewBox=\"0 0 24 24\"\n",
              "     width=\"24px\">\n",
              "    <g>\n",
              "        <path d=\"M19 3H5c-1.1 0-2 .9-2 2v14c0 1.1.9 2 2 2h14c1.1 0 2-.9 2-2V5c0-1.1-.9-2-2-2zM9 17H7v-7h2v7zm4 0h-2V7h2v10zm4 0h-2v-4h2v4z\"/>\n",
              "    </g>\n",
              "</svg>\n",
              "  </button>\n",
              "\n",
              "<style>\n",
              "  .colab-df-quickchart {\n",
              "      --bg-color: #E8F0FE;\n",
              "      --fill-color: #1967D2;\n",
              "      --hover-bg-color: #E2EBFA;\n",
              "      --hover-fill-color: #174EA6;\n",
              "      --disabled-fill-color: #AAA;\n",
              "      --disabled-bg-color: #DDD;\n",
              "  }\n",
              "\n",
              "  [theme=dark] .colab-df-quickchart {\n",
              "      --bg-color: #3B4455;\n",
              "      --fill-color: #D2E3FC;\n",
              "      --hover-bg-color: #434B5C;\n",
              "      --hover-fill-color: #FFFFFF;\n",
              "      --disabled-bg-color: #3B4455;\n",
              "      --disabled-fill-color: #666;\n",
              "  }\n",
              "\n",
              "  .colab-df-quickchart {\n",
              "    background-color: var(--bg-color);\n",
              "    border: none;\n",
              "    border-radius: 50%;\n",
              "    cursor: pointer;\n",
              "    display: none;\n",
              "    fill: var(--fill-color);\n",
              "    height: 32px;\n",
              "    padding: 0;\n",
              "    width: 32px;\n",
              "  }\n",
              "\n",
              "  .colab-df-quickchart:hover {\n",
              "    background-color: var(--hover-bg-color);\n",
              "    box-shadow: 0 1px 2px rgba(60, 64, 67, 0.3), 0 1px 3px 1px rgba(60, 64, 67, 0.15);\n",
              "    fill: var(--button-hover-fill-color);\n",
              "  }\n",
              "\n",
              "  .colab-df-quickchart-complete:disabled,\n",
              "  .colab-df-quickchart-complete:disabled:hover {\n",
              "    background-color: var(--disabled-bg-color);\n",
              "    fill: var(--disabled-fill-color);\n",
              "    box-shadow: none;\n",
              "  }\n",
              "\n",
              "  .colab-df-spinner {\n",
              "    border: 2px solid var(--fill-color);\n",
              "    border-color: transparent;\n",
              "    border-bottom-color: var(--fill-color);\n",
              "    animation:\n",
              "      spin 1s steps(1) infinite;\n",
              "  }\n",
              "\n",
              "  @keyframes spin {\n",
              "    0% {\n",
              "      border-color: transparent;\n",
              "      border-bottom-color: var(--fill-color);\n",
              "      border-left-color: var(--fill-color);\n",
              "    }\n",
              "    20% {\n",
              "      border-color: transparent;\n",
              "      border-left-color: var(--fill-color);\n",
              "      border-top-color: var(--fill-color);\n",
              "    }\n",
              "    30% {\n",
              "      border-color: transparent;\n",
              "      border-left-color: var(--fill-color);\n",
              "      border-top-color: var(--fill-color);\n",
              "      border-right-color: var(--fill-color);\n",
              "    }\n",
              "    40% {\n",
              "      border-color: transparent;\n",
              "      border-right-color: var(--fill-color);\n",
              "      border-top-color: var(--fill-color);\n",
              "    }\n",
              "    60% {\n",
              "      border-color: transparent;\n",
              "      border-right-color: var(--fill-color);\n",
              "    }\n",
              "    80% {\n",
              "      border-color: transparent;\n",
              "      border-right-color: var(--fill-color);\n",
              "      border-bottom-color: var(--fill-color);\n",
              "    }\n",
              "    90% {\n",
              "      border-color: transparent;\n",
              "      border-bottom-color: var(--fill-color);\n",
              "    }\n",
              "  }\n",
              "</style>\n",
              "\n",
              "  <script>\n",
              "    async function quickchart(key) {\n",
              "      const quickchartButtonEl =\n",
              "        document.querySelector('#' + key + ' button');\n",
              "      quickchartButtonEl.disabled = true;  // To prevent multiple clicks.\n",
              "      quickchartButtonEl.classList.add('colab-df-spinner');\n",
              "      try {\n",
              "        const charts = await google.colab.kernel.invokeFunction(\n",
              "            'suggestCharts', [key], {});\n",
              "      } catch (error) {\n",
              "        console.error('Error during call to suggestCharts:', error);\n",
              "      }\n",
              "      quickchartButtonEl.classList.remove('colab-df-spinner');\n",
              "      quickchartButtonEl.classList.add('colab-df-quickchart-complete');\n",
              "    }\n",
              "    (() => {\n",
              "      let quickchartButtonEl =\n",
              "        document.querySelector('#df-22167fed-2c08-4d10-85e0-d529f2d3f600 button');\n",
              "      quickchartButtonEl.style.display =\n",
              "        google.colab.kernel.accessAllowed ? 'block' : 'none';\n",
              "    })();\n",
              "  </script>\n",
              "</div>\n",
              "\n",
              "  <div id=\"id_3884ac19-7f5c-4602-8d23-8528a8f1974c\">\n",
              "    <style>\n",
              "      .colab-df-generate {\n",
              "        background-color: #E8F0FE;\n",
              "        border: none;\n",
              "        border-radius: 50%;\n",
              "        cursor: pointer;\n",
              "        display: none;\n",
              "        fill: #1967D2;\n",
              "        height: 32px;\n",
              "        padding: 0 0 0 0;\n",
              "        width: 32px;\n",
              "      }\n",
              "\n",
              "      .colab-df-generate:hover {\n",
              "        background-color: #E2EBFA;\n",
              "        box-shadow: 0px 1px 2px rgba(60, 64, 67, 0.3), 0px 1px 3px 1px rgba(60, 64, 67, 0.15);\n",
              "        fill: #174EA6;\n",
              "      }\n",
              "\n",
              "      [theme=dark] .colab-df-generate {\n",
              "        background-color: #3B4455;\n",
              "        fill: #D2E3FC;\n",
              "      }\n",
              "\n",
              "      [theme=dark] .colab-df-generate:hover {\n",
              "        background-color: #434B5C;\n",
              "        box-shadow: 0px 1px 3px 1px rgba(0, 0, 0, 0.15);\n",
              "        filter: drop-shadow(0px 1px 2px rgba(0, 0, 0, 0.3));\n",
              "        fill: #FFFFFF;\n",
              "      }\n",
              "    </style>\n",
              "    <button class=\"colab-df-generate\" onclick=\"generateWithVariable('feature_importance')\"\n",
              "            title=\"Generate code using this dataframe.\"\n",
              "            style=\"display:none;\">\n",
              "\n",
              "  <svg xmlns=\"http://www.w3.org/2000/svg\" height=\"24px\"viewBox=\"0 0 24 24\"\n",
              "       width=\"24px\">\n",
              "    <path d=\"M7,19H8.4L18.45,9,17,7.55,7,17.6ZM5,21V16.75L18.45,3.32a2,2,0,0,1,2.83,0l1.4,1.43a1.91,1.91,0,0,1,.58,1.4,1.91,1.91,0,0,1-.58,1.4L9.25,21ZM18.45,9,17,7.55Zm-12,3A5.31,5.31,0,0,0,4.9,8.1,5.31,5.31,0,0,0,1,6.5,5.31,5.31,0,0,0,4.9,4.9,5.31,5.31,0,0,0,6.5,1,5.31,5.31,0,0,0,8.1,4.9,5.31,5.31,0,0,0,12,6.5,5.46,5.46,0,0,0,6.5,12Z\"/>\n",
              "  </svg>\n",
              "    </button>\n",
              "    <script>\n",
              "      (() => {\n",
              "      const buttonEl =\n",
              "        document.querySelector('#id_3884ac19-7f5c-4602-8d23-8528a8f1974c button.colab-df-generate');\n",
              "      buttonEl.style.display =\n",
              "        google.colab.kernel.accessAllowed ? 'block' : 'none';\n",
              "\n",
              "      buttonEl.onclick = () => {\n",
              "        google.colab.notebook.generateWithVariable('feature_importance');\n",
              "      }\n",
              "      })();\n",
              "    </script>\n",
              "  </div>\n",
              "\n",
              "    </div>\n",
              "  </div>\n"
            ],
            "application/vnd.google.colaboratory.intrinsic+json": {
              "type": "dataframe",
              "variable_name": "feature_importance",
              "summary": "{\n  \"name\": \"feature_importance\",\n  \"rows\": 8,\n  \"fields\": [\n    {\n      \"column\": \"Feature\",\n      \"properties\": {\n        \"dtype\": \"string\",\n        \"num_unique_values\": 8,\n        \"samples\": [\n          \"kills\",\n          \"cs\",\n          \"gold_earned\"\n        ],\n        \"semantic_type\": \"\",\n        \"description\": \"\"\n      }\n    },\n    {\n      \"column\": \"Importance\",\n      \"properties\": {\n        \"dtype\": \"float32\",\n        \"num_unique_values\": 8,\n        \"samples\": [\n          0.13988344371318817,\n          -0.016904614865779877,\n          0.17627671360969543\n        ],\n        \"semantic_type\": \"\",\n        \"description\": \"\"\n      }\n    }\n  ]\n}"
            }
          },
          "metadata": {},
          "execution_count": 28
        }
      ],
      "source": [
        "## Write your code here\n",
        "\n",
        "import pandas as pd\n",
        "import matplotlib.pyplot as plt\n",
        "\n",
        "# Extract the weights of the linear layer\n",
        "## Write your code here\n",
        "weights = model.linear.weight.data.numpy().flatten()  # Flatten the weights to get a 1D array\n",
        "features = X.columns\n",
        "\n",
        "# Create a DataFrame for feature importance\n",
        "## Write your code here\n",
        "feature_importance = pd.DataFrame({'Feature': features, 'Importance': weights})\n",
        "feature_importance = feature_importance.sort_values(by='Importance', ascending=False)\n",
        "\n",
        "feature_importance\n"
      ],
      "execution_count": 28
    },
    {
      "cell_type": "code",
      "source": [
        "plt.figure(figsize=(6, 4))\n",
        "plt.barh(feature_importance['Feature'], feature_importance['Importance'])\n",
        "plt.xlabel('Importance')\n",
        "plt.ylabel('Features')\n",
        "plt.title('Feature Importance')\n",
        "plt.show()"
      ],
      "metadata": {
        "colab": {
          "base_uri": "https://localhost:8080/",
          "height": 410
        },
        "id": "-cDH3Ra6qa9V",
        "outputId": "7ae7f8ef-b749-43be-faa3-eb861ed21a79"
      },
      "execution_count": 30,
      "outputs": [
        {
          "output_type": "display_data",
          "data": {
            "text/plain": [
              "<Figure size 600x400 with 1 Axes>"
            ],
            "image/png": "[encoded data removed]"
          },
          "metadata": {}
        }
      ]
    },
    {
      "cell_type": "markdown",
      "metadata": {
        "id": "165673c2-89be-45cf-8239-1fc4544ae853"
      },
      "source": [
        "*Double*-click <b>here</b> for the Hint\n",
        "<!--\n",
        "#Use the following code to extract the weight and create dataframe\n",
        "#Change the name of variables per your code\n",
        "\n",
        "Extract the weights of the linear layer:\n",
        "weights = model.linear.weight.data.numpy().flatten()\n",
        "features = X.columns\n",
        "Create a DataFrame for feature importance:\n",
        "feature_importance = pd.DataFrame({'Feature': features, 'Importance': weights})\n",
        "feature_importance = feature_importance.sort_values(by='Importance', ascending=False)\n",
        "print(feature_importance)\n",
        "Plot feature importance plt.figure(figsize=(10, 6))\n",
        "plt.bar(feature_importance['Feature'], feature_importance['Importance'])\n",
        "plt.xlabel('Features')\n",
        "plt.ylabel('Importance')\n",
        "plt.title('Feature Importance')\n",
        "plt.xticks(rotation=45)\n",
        "plt.show()\n",
        "-->\n"
      ]
    },
    {
      "cell_type": "markdown",
      "metadata": {
        "id": "04b85e8a-9c1b-49f8-befc-f8b3b5799a14"
      },
      "source": [
        "#### Conclusion:\n",
        "\n",
        "Congratulations on completing the project! In this final project, you built a logistic regression model to predict the outcomes of League of Legends matches based on various in-game statistics. This comprehensive project involved several key steps, including data loading and preprocessing, model implementation, training, optimization, evaluation, visualization, model saving and loading, hyperparameter tuning, and feature importance analysis. This project provided hands-on experience with the complete workflow of developing a machine learning model for binary classification tasks using PyTorch.\n",
        "\n",
        "© Copyright IBM Corporation. All rights reserved.\n"
      ]
    },
    {
      "cell_type": "code",
      "metadata": {
        "id": "bb47ab38-c71b-4684-b444-04d353b3961b"
      },
      "outputs": [],
      "source": [],
      "execution_count": 24
    }
  ],
  "metadata": {
    "kernelspec": {
      "display_name": "Python 3 (ipykernel)",
      "language": "python",
      "name": "python3"
    },
    "language_info": {
      "codemirror_mode": {
        "name": "ipython",
        "version": 3
      },
      "file_extension": ".py",
      "mimetype": "text/x-python",
      "name": "python",
      "nbconvert_exporter": "python",
      "pygments_lexer": "ipython3",
      "version": "3.11.9"
    },
    "prev_pub_hash": "3954a6768947e1337f1fbb623d47144c102fda57b5eb30076fea611e015e66ea",
    "colab": {
      "provenance": []
    }
  },
  "nbformat": 4,
  "nbformat_minor": 0
}